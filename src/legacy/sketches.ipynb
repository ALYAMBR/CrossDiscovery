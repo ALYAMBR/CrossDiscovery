{
 "cells": [
  {
   "cell_type": "code",
   "execution_count": 36,
   "metadata": {},
   "outputs": [],
   "source": [
    "import numpy as np\n",
    "import pandas as pd\n",
    "import seaborn as sns\n",
    "import matplotlib.pyplot as plt\n",
    "from sklearn.preprocessing import LabelEncoder\n",
    "from data_utils import get_target"
   ]
  },
  {
   "cell_type": "code",
   "execution_count": 37,
   "metadata": {},
   "outputs": [],
   "source": [
    "DATA_DIR_PATH = './../data/'"
   ]
  },
  {
   "cell_type": "code",
   "execution_count": 38,
   "metadata": {},
   "outputs": [],
   "source": [
    "DATASET_NAME = 'students'"
   ]
  },
  {
   "cell_type": "code",
   "execution_count": 39,
   "metadata": {},
   "outputs": [],
   "source": [
    "target = 'grade'"
   ]
  },
  {
   "cell_type": "code",
   "execution_count": 42,
   "metadata": {},
   "outputs": [],
   "source": [
    "data = pd.read_csv(f'{DATA_DIR_PATH}{DATASET_NAME}.csv', sep=';')\n",
    "data = data.dropna(axis=0)\n",
    "data\n"
   ]
  },
  {
   "cell_type": "code",
   "execution_count": 6,
   "metadata": {},
   "outputs": [],
   "source": [
    "target_col = data[target]\n",
    "if target_col.dtype not in ['float64', 'int64']:\n",
    "    label_ecnoder = LabelEncoder()\n",
    "    target_col = label_ecnoder.fit_transform(target_col)\n",
    "data = data.drop(target, axis=1)\n",
    "data = data.select_dtypes(include=['float64', 'int64'])\n",
    "feat_cols = data.columns\n",
    "data['target'] = target_col"
   ]
  },
  {
   "cell_type": "code",
   "execution_count": 7,
   "metadata": {},
   "outputs": [],
   "source": [
    "from CrossingBuilder import build_crossings, build_crossings_prototypes\n",
    "from crossing_functions import crossing_product\n",
    "from scipy.stats import pointbiserialr as pcorr"
   ]
  },
  {
   "cell_type": "code",
   "execution_count": 8,
   "metadata": {},
   "outputs": [],
   "source": [
    "depth = 1"
   ]
  },
  {
   "cell_type": "code",
   "execution_count": 9,
   "metadata": {},
   "outputs": [],
   "source": [
    "prototypes = build_crossings_prototypes(data.drop([target], axis=1), depth)"
   ]
  },
  {
   "cell_type": "code",
   "execution_count": 10,
   "metadata": {},
   "outputs": [],
   "source": [
    "from importances import get_point_biserial_corrs"
   ]
  },
  {
   "cell_type": "code",
   "execution_count": 11,
   "metadata": {},
   "outputs": [],
   "source": [
    "orig_imp = get_point_biserial_corrs(data, target)"
   ]
  },
  {
   "cell_type": "code",
   "execution_count": 12,
   "metadata": {},
   "outputs": [],
   "source": [
    "crossed_data, cross_info = build_crossings(data, prototypes, crossing_product, orig_imp)"
   ]
  },
  {
   "cell_type": "code",
   "execution_count": 13,
   "metadata": {},
   "outputs": [],
   "source": [
    "crossed_imp = abs(crossed_data.corr()[target]).sort_values()"
   ]
  },
  {
   "cell_type": "code",
   "execution_count": 14,
   "metadata": {},
   "outputs": [
    {
     "data": {
      "text/html": [
       "<div>\n",
       "<style scoped>\n",
       "    .dataframe tbody tr th:only-of-type {\n",
       "        vertical-align: middle;\n",
       "    }\n",
       "\n",
       "    .dataframe tbody tr th {\n",
       "        vertical-align: top;\n",
       "    }\n",
       "\n",
       "    .dataframe thead th {\n",
       "        text-align: right;\n",
       "    }\n",
       "</style>\n",
       "<table border=\"1\" class=\"dataframe\">\n",
       "  <thead>\n",
       "    <tr style=\"text-align: right;\">\n",
       "      <th></th>\n",
       "      <th>target</th>\n",
       "    </tr>\n",
       "  </thead>\n",
       "  <tbody>\n",
       "    <tr>\n",
       "      <th>restecg_X_sex</th>\n",
       "      <td>0.019229</td>\n",
       "    </tr>\n",
       "    <tr>\n",
       "      <th>fbs_X_thalach</th>\n",
       "      <td>0.019388</td>\n",
       "    </tr>\n",
       "    <tr>\n",
       "      <th>fbs_X_sex</th>\n",
       "      <td>0.031167</td>\n",
       "    </tr>\n",
       "    <tr>\n",
       "      <th>fbs_X_slope</th>\n",
       "      <td>0.038021</td>\n",
       "    </tr>\n",
       "    <tr>\n",
       "      <th>fbs_X_restecg</th>\n",
       "      <td>0.038749</td>\n",
       "    </tr>\n",
       "    <tr>\n",
       "      <th>...</th>\n",
       "      <td>...</td>\n",
       "    </tr>\n",
       "    <tr>\n",
       "      <th>exang_X_trestbps</th>\n",
       "      <td>0.445097</td>\n",
       "    </tr>\n",
       "    <tr>\n",
       "      <th>cp_X_slope</th>\n",
       "      <td>0.449473</td>\n",
       "    </tr>\n",
       "    <tr>\n",
       "      <th>cp_X_thalach</th>\n",
       "      <td>0.454156</td>\n",
       "    </tr>\n",
       "    <tr>\n",
       "      <th>oldpeak_X_thal</th>\n",
       "      <td>0.457514</td>\n",
       "    </tr>\n",
       "    <tr>\n",
       "      <th>target</th>\n",
       "      <td>1.000000</td>\n",
       "    </tr>\n",
       "  </tbody>\n",
       "</table>\n",
       "<p>105 rows × 1 columns</p>\n",
       "</div>"
      ],
      "text/plain": [
       "                    target\n",
       "restecg_X_sex     0.019229\n",
       "fbs_X_thalach     0.019388\n",
       "fbs_X_sex         0.031167\n",
       "fbs_X_slope       0.038021\n",
       "fbs_X_restecg     0.038749\n",
       "...                    ...\n",
       "exang_X_trestbps  0.445097\n",
       "cp_X_slope        0.449473\n",
       "cp_X_thalach      0.454156\n",
       "oldpeak_X_thal    0.457514\n",
       "target            1.000000\n",
       "\n",
       "[105 rows x 1 columns]"
      ]
     },
     "execution_count": 14,
     "metadata": {},
     "output_type": "execute_result"
    }
   ],
   "source": [
    "pd.DataFrame(crossed_imp)"
   ]
  },
  {
   "cell_type": "code",
   "execution_count": 15,
   "metadata": {},
   "outputs": [
    {
     "data": {
      "text/plain": [
       "{'age_X_age': (0.22932355126761092, ['age', 'age']),\n",
       " 'age_X_sex': (0.2795007572922631, ['age', 'sex']),\n",
       " 'age_X_cp': (0.43485425005273654, ['age', 'cp']),\n",
       " 'age_X_trestbps': (0.22932355126761092, ['age', 'trestbps']),\n",
       " 'age_X_chol': (0.22932355126761092, ['age', 'chol']),\n",
       " 'age_X_fbs': (0.22932355126761092, ['age', 'fbs']),\n",
       " 'age_X_restecg': (0.22932355126761092, ['age', 'restecg']),\n",
       " 'age_X_thalach': (0.42289549648287084, ['age', 'thalach']),\n",
       " 'age_X_exang': (0.43802855005584634, ['age', 'exang']),\n",
       " 'age_X_oldpeak': (0.43844127011194434, ['age', 'oldpeak']),\n",
       " 'age_X_slope': (0.3455117514359984, ['age', 'slope']),\n",
       " 'age_X_ca': (0.3820852890386706, ['age', 'ca']),\n",
       " 'age_X_thal': (0.33783815045718624, ['age', 'thal']),\n",
       " 'sex_X_sex': (0.2795007572922631, ['sex', 'sex']),\n",
       " 'cp_X_sex': (0.43485425005273654, ['cp', 'sex']),\n",
       " 'sex_X_trestbps': (0.2795007572922631, ['sex', 'trestbps']),\n",
       " 'chol_X_sex': (0.2795007572922631, ['chol', 'sex']),\n",
       " 'fbs_X_sex': (0.2795007572922631, ['fbs', 'sex']),\n",
       " 'restecg_X_sex': (0.2795007572922631, ['restecg', 'sex']),\n",
       " 'sex_X_thalach': (0.42289549648287084, ['sex', 'thalach']),\n",
       " 'exang_X_sex': (0.43802855005584634, ['exang', 'sex']),\n",
       " 'oldpeak_X_sex': (0.43844127011194434, ['oldpeak', 'sex']),\n",
       " 'sex_X_slope': (0.3455117514359984, ['sex', 'slope']),\n",
       " 'ca_X_sex': (0.3820852890386706, ['ca', 'sex']),\n",
       " 'sex_X_thal': (0.33783815045718624, ['sex', 'thal']),\n",
       " 'cp_X_cp': (0.43485425005273654, ['cp', 'cp']),\n",
       " 'cp_X_trestbps': (0.43485425005273654, ['cp', 'trestbps']),\n",
       " 'chol_X_cp': (0.43485425005273654, ['chol', 'cp']),\n",
       " 'cp_X_fbs': (0.43485425005273654, ['cp', 'fbs']),\n",
       " 'cp_X_restecg': (0.43485425005273654, ['cp', 'restecg']),\n",
       " 'cp_X_thalach': (0.43485425005273654, ['cp', 'thalach']),\n",
       " 'cp_X_exang': (0.43802855005584634, ['cp', 'exang']),\n",
       " 'cp_X_oldpeak': (0.43844127011194434, ['cp', 'oldpeak']),\n",
       " 'cp_X_slope': (0.43485425005273654, ['cp', 'slope']),\n",
       " 'ca_X_cp': (0.43485425005273654, ['ca', 'cp']),\n",
       " 'cp_X_thal': (0.43485425005273654, ['cp', 'thal']),\n",
       " 'trestbps_X_trestbps': (0.13877173373730098, ['trestbps', 'trestbps']),\n",
       " 'chol_X_trestbps': (0.13877173373730098, ['chol', 'trestbps']),\n",
       " 'fbs_X_trestbps': (0.13877173373730098, ['fbs', 'trestbps']),\n",
       " 'restecg_X_trestbps': (0.13877173373730098, ['restecg', 'trestbps']),\n",
       " 'thalach_X_trestbps': (0.42289549648287084, ['thalach', 'trestbps']),\n",
       " 'exang_X_trestbps': (0.43802855005584634, ['exang', 'trestbps']),\n",
       " 'oldpeak_X_trestbps': (0.43844127011194434, ['oldpeak', 'trestbps']),\n",
       " 'slope_X_trestbps': (0.3455117514359984, ['slope', 'trestbps']),\n",
       " 'ca_X_trestbps': (0.3820852890386706, ['ca', 'trestbps']),\n",
       " 'thal_X_trestbps': (0.33783815045718624, ['thal', 'trestbps']),\n",
       " 'chol_X_chol': (0.09996559423254109, ['chol', 'chol']),\n",
       " 'chol_X_fbs': (0.09996559423254109, ['chol', 'fbs']),\n",
       " 'chol_X_restecg': (0.13446820873908877, ['chol', 'restecg']),\n",
       " 'chol_X_thalach': (0.42289549648287084, ['chol', 'thalach']),\n",
       " 'chol_X_exang': (0.43802855005584634, ['chol', 'exang']),\n",
       " 'chol_X_oldpeak': (0.43844127011194434, ['chol', 'oldpeak']),\n",
       " 'chol_X_slope': (0.3455117514359984, ['chol', 'slope']),\n",
       " 'ca_X_chol': (0.3820852890386706, ['ca', 'chol']),\n",
       " 'chol_X_thal': (0.33783815045718624, ['chol', 'thal']),\n",
       " 'fbs_X_fbs': (0.04116354746465108, ['fbs', 'fbs']),\n",
       " 'fbs_X_restecg': (0.13446820873908877, ['fbs', 'restecg']),\n",
       " 'fbs_X_thalach': (0.42289549648287084, ['fbs', 'thalach']),\n",
       " 'exang_X_fbs': (0.43802855005584634, ['exang', 'fbs']),\n",
       " 'fbs_X_oldpeak': (0.43844127011194434, ['fbs', 'oldpeak']),\n",
       " 'fbs_X_slope': (0.3455117514359984, ['fbs', 'slope']),\n",
       " 'ca_X_fbs': (0.3820852890386706, ['ca', 'fbs']),\n",
       " 'fbs_X_thal': (0.33783815045718624, ['fbs', 'thal']),\n",
       " 'restecg_X_restecg': (0.13446820873908877, ['restecg', 'restecg']),\n",
       " 'restecg_X_thalach': (0.42289549648287084, ['restecg', 'thalach']),\n",
       " 'exang_X_restecg': (0.43802855005584634, ['exang', 'restecg']),\n",
       " 'oldpeak_X_restecg': (0.43844127011194434, ['oldpeak', 'restecg']),\n",
       " 'restecg_X_slope': (0.3455117514359984, ['restecg', 'slope']),\n",
       " 'ca_X_restecg': (0.3820852890386706, ['ca', 'restecg']),\n",
       " 'restecg_X_thal': (0.33783815045718624, ['restecg', 'thal']),\n",
       " 'thalach_X_thalach': (0.42289549648287084, ['thalach', 'thalach']),\n",
       " 'exang_X_thalach': (0.43802855005584634, ['exang', 'thalach']),\n",
       " 'oldpeak_X_thalach': (0.43844127011194434, ['oldpeak', 'thalach']),\n",
       " 'slope_X_thalach': (0.42289549648287084, ['slope', 'thalach']),\n",
       " 'ca_X_thalach': (0.42289549648287084, ['ca', 'thalach']),\n",
       " 'thal_X_thalach': (0.42289549648287084, ['thal', 'thalach']),\n",
       " 'exang_X_exang': (0.43802855005584634, ['exang', 'exang']),\n",
       " 'exang_X_oldpeak': (0.43844127011194434, ['exang', 'oldpeak']),\n",
       " 'exang_X_slope': (0.43802855005584634, ['exang', 'slope']),\n",
       " 'ca_X_exang': (0.43802855005584634, ['ca', 'exang']),\n",
       " 'exang_X_thal': (0.43802855005584634, ['exang', 'thal']),\n",
       " 'oldpeak_X_oldpeak': (0.43844127011194434, ['oldpeak', 'oldpeak']),\n",
       " 'oldpeak_X_slope': (0.43844127011194434, ['oldpeak', 'slope']),\n",
       " 'ca_X_oldpeak': (0.43844127011194434, ['ca', 'oldpeak']),\n",
       " 'oldpeak_X_thal': (0.43844127011194434, ['oldpeak', 'thal']),\n",
       " 'slope_X_slope': (0.3455117514359984, ['slope', 'slope']),\n",
       " 'ca_X_slope': (0.3820852890386706, ['ca', 'slope']),\n",
       " 'slope_X_thal': (0.3455117514359984, ['slope', 'thal']),\n",
       " 'ca_X_ca': (0.3820852890386706, ['ca', 'ca']),\n",
       " 'ca_X_thal': (0.3820852890386706, ['ca', 'thal']),\n",
       " 'thal_X_thal': (0.33783815045718624, ['thal', 'thal'])}"
      ]
     },
     "execution_count": 15,
     "metadata": {},
     "output_type": "execute_result"
    }
   ],
   "source": [
    "cross_info"
   ]
  },
  {
   "cell_type": "code",
   "execution_count": 16,
   "metadata": {},
   "outputs": [],
   "source": [
    "crossed_full_info = pd.DataFrame(crossed_imp)\n",
    "crossed_full_info['importance'] = crossed_full_info['target']\n",
    "crossed_full_info = crossed_full_info.drop('target', axis=1)\n",
    "crossed_full_info['rank'] = pd.Series(dict({k: v[0] for k, v in cross_info.items()}))\n",
    "crossed_full_info['originals'] = pd.Series(dict({k: v[1] for k, v in cross_info.items()}))\n",
    "crossed_full_info = crossed_full_info.drop('target', axis=0)"
   ]
  },
  {
   "cell_type": "code",
   "execution_count": 17,
   "metadata": {},
   "outputs": [
    {
     "data": {
      "text/html": [
       "<div>\n",
       "<style scoped>\n",
       "    .dataframe tbody tr th:only-of-type {\n",
       "        vertical-align: middle;\n",
       "    }\n",
       "\n",
       "    .dataframe tbody tr th {\n",
       "        vertical-align: top;\n",
       "    }\n",
       "\n",
       "    .dataframe thead th {\n",
       "        text-align: right;\n",
       "    }\n",
       "</style>\n",
       "<table border=\"1\" class=\"dataframe\">\n",
       "  <thead>\n",
       "    <tr style=\"text-align: right;\">\n",
       "      <th></th>\n",
       "      <th>importance</th>\n",
       "      <th>rank</th>\n",
       "      <th>originals</th>\n",
       "    </tr>\n",
       "  </thead>\n",
       "  <tbody>\n",
       "    <tr>\n",
       "      <th>restecg_X_sex</th>\n",
       "      <td>0.019229</td>\n",
       "      <td>0.279501</td>\n",
       "      <td>[restecg, sex]</td>\n",
       "    </tr>\n",
       "    <tr>\n",
       "      <th>fbs_X_thalach</th>\n",
       "      <td>0.019388</td>\n",
       "      <td>0.422895</td>\n",
       "      <td>[fbs, thalach]</td>\n",
       "    </tr>\n",
       "    <tr>\n",
       "      <th>fbs_X_sex</th>\n",
       "      <td>0.031167</td>\n",
       "      <td>0.279501</td>\n",
       "      <td>[fbs, sex]</td>\n",
       "    </tr>\n",
       "    <tr>\n",
       "      <th>fbs_X_slope</th>\n",
       "      <td>0.038021</td>\n",
       "      <td>0.345512</td>\n",
       "      <td>[fbs, slope]</td>\n",
       "    </tr>\n",
       "    <tr>\n",
       "      <th>fbs_X_restecg</th>\n",
       "      <td>0.038749</td>\n",
       "      <td>0.134468</td>\n",
       "      <td>[fbs, restecg]</td>\n",
       "    </tr>\n",
       "    <tr>\n",
       "      <th>...</th>\n",
       "      <td>...</td>\n",
       "      <td>...</td>\n",
       "      <td>...</td>\n",
       "    </tr>\n",
       "    <tr>\n",
       "      <th>exang_X_thal</th>\n",
       "      <td>0.444305</td>\n",
       "      <td>0.438029</td>\n",
       "      <td>[exang, thal]</td>\n",
       "    </tr>\n",
       "    <tr>\n",
       "      <th>exang_X_trestbps</th>\n",
       "      <td>0.445097</td>\n",
       "      <td>0.438029</td>\n",
       "      <td>[exang, trestbps]</td>\n",
       "    </tr>\n",
       "    <tr>\n",
       "      <th>cp_X_slope</th>\n",
       "      <td>0.449473</td>\n",
       "      <td>0.434854</td>\n",
       "      <td>[cp, slope]</td>\n",
       "    </tr>\n",
       "    <tr>\n",
       "      <th>cp_X_thalach</th>\n",
       "      <td>0.454156</td>\n",
       "      <td>0.434854</td>\n",
       "      <td>[cp, thalach]</td>\n",
       "    </tr>\n",
       "    <tr>\n",
       "      <th>oldpeak_X_thal</th>\n",
       "      <td>0.457514</td>\n",
       "      <td>0.438441</td>\n",
       "      <td>[oldpeak, thal]</td>\n",
       "    </tr>\n",
       "  </tbody>\n",
       "</table>\n",
       "<p>104 rows × 3 columns</p>\n",
       "</div>"
      ],
      "text/plain": [
       "                  importance      rank          originals\n",
       "restecg_X_sex       0.019229  0.279501     [restecg, sex]\n",
       "fbs_X_thalach       0.019388  0.422895     [fbs, thalach]\n",
       "fbs_X_sex           0.031167  0.279501         [fbs, sex]\n",
       "fbs_X_slope         0.038021  0.345512       [fbs, slope]\n",
       "fbs_X_restecg       0.038749  0.134468     [fbs, restecg]\n",
       "...                      ...       ...                ...\n",
       "exang_X_thal        0.444305  0.438029      [exang, thal]\n",
       "exang_X_trestbps    0.445097  0.438029  [exang, trestbps]\n",
       "cp_X_slope          0.449473  0.434854        [cp, slope]\n",
       "cp_X_thalach        0.454156  0.434854      [cp, thalach]\n",
       "oldpeak_X_thal      0.457514  0.438441    [oldpeak, thal]\n",
       "\n",
       "[104 rows x 3 columns]"
      ]
     },
     "execution_count": 17,
     "metadata": {},
     "output_type": "execute_result"
    }
   ],
   "source": [
    "crossed_full_info"
   ]
  },
  {
   "cell_type": "code",
   "execution_count": 18,
   "metadata": {},
   "outputs": [],
   "source": [
    "crossed_full_info.to_csv(f'../data/output/crossed_imp_{DATASET_NAME}_d{depth}.csv')"
   ]
  },
  {
   "cell_type": "code",
   "execution_count": 19,
   "metadata": {},
   "outputs": [],
   "source": [
    "pd.DataFrame(orig_imp, columns=['importance']).to_csv(f'../data/output/orig_imp_{DATASET_NAME}.csv', index=True)"
   ]
  }
 ],
 "metadata": {
  "kernelspec": {
   "display_name": "venv",
   "language": "python",
   "name": "python3"
  },
  "language_info": {
   "codemirror_mode": {
    "name": "ipython",
    "version": 3
   },
   "file_extension": ".py",
   "mimetype": "text/x-python",
   "name": "python",
   "nbconvert_exporter": "python",
   "pygments_lexer": "ipython3",
   "version": "3.10.7"
  },
  "orig_nbformat": 4,
  "vscode": {
   "interpreter": {
    "hash": "cc747558e2f4a769efb938c3d7b234f1f5c4d48e04b67a6d28d42c6044c31a07"
   }
  }
 },
 "nbformat": 4,
 "nbformat_minor": 2
}
