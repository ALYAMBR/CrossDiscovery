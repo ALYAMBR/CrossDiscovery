{
 "cells": [
  {
   "cell_type": "code",
   "execution_count": 26,
   "metadata": {},
   "outputs": [],
   "source": [
    "import numpy as np\n",
    "import pandas as pd\n",
    "import seaborn as sns\n",
    "import matplotlib.pyplot as plt"
   ]
  },
  {
   "cell_type": "code",
   "execution_count": 27,
   "metadata": {},
   "outputs": [],
   "source": [
    "data = pd.read_csv('./../data/heart.csv')"
   ]
  },
  {
   "cell_type": "code",
   "execution_count": 28,
   "metadata": {},
   "outputs": [],
   "source": [
    "target = 'target'"
   ]
  },
  {
   "cell_type": "code",
   "execution_count": 29,
   "metadata": {},
   "outputs": [
    {
     "name": "stdout",
     "output_type": "stream",
     "text": [
      "<class 'pandas.core.frame.DataFrame'>\n",
      "RangeIndex: 1025 entries, 0 to 1024\n",
      "Data columns (total 14 columns):\n",
      " #   Column    Non-Null Count  Dtype  \n",
      "---  ------    --------------  -----  \n",
      " 0   age       1025 non-null   int64  \n",
      " 1   sex       1025 non-null   int64  \n",
      " 2   cp        1025 non-null   int64  \n",
      " 3   trestbps  1025 non-null   int64  \n",
      " 4   chol      1025 non-null   int64  \n",
      " 5   fbs       1025 non-null   int64  \n",
      " 6   restecg   1025 non-null   int64  \n",
      " 7   thalach   1025 non-null   int64  \n",
      " 8   exang     1025 non-null   int64  \n",
      " 9   oldpeak   1025 non-null   float64\n",
      " 10  slope     1025 non-null   int64  \n",
      " 11  ca        1025 non-null   int64  \n",
      " 12  thal      1025 non-null   int64  \n",
      " 13  target    1025 non-null   int64  \n",
      "dtypes: float64(1), int64(13)\n",
      "memory usage: 112.2 KB\n"
     ]
    }
   ],
   "source": [
    "data.info()"
   ]
  },
  {
   "cell_type": "code",
   "execution_count": 56,
   "metadata": {},
   "outputs": [
    {
     "data": {
      "text/plain": [
       "1    526\n",
       "0    499\n",
       "Name: target, dtype: int64"
      ]
     },
     "execution_count": 56,
     "metadata": {},
     "output_type": "execute_result"
    }
   ],
   "source": [
    "data[target].value_counts()"
   ]
  },
  {
   "cell_type": "code",
   "execution_count": 30,
   "metadata": {},
   "outputs": [],
   "source": [
    "feat_cols = list(set(data.columns) - set([target]))"
   ]
  },
  {
   "cell_type": "code",
   "execution_count": 31,
   "metadata": {},
   "outputs": [],
   "source": [
    "from CrossingBuilder import build_crossings, build_crossings_prototypes\n",
    "from crossing_functions import crossing_product\n",
    "from scipy.stats import pointbiserialr as pcorr"
   ]
  },
  {
   "cell_type": "code",
   "execution_count": 44,
   "metadata": {},
   "outputs": [],
   "source": [
    "depth = 1"
   ]
  },
  {
   "cell_type": "code",
   "execution_count": 45,
   "metadata": {},
   "outputs": [],
   "source": [
    "prototypes = build_crossings_prototypes(data.drop([target], axis=1), depth)"
   ]
  },
  {
   "cell_type": "code",
   "execution_count": 46,
   "metadata": {},
   "outputs": [
    {
     "data": {
      "text/plain": [
       "[['age', 'age'],\n",
       " ['age', 'sex'],\n",
       " ['age', 'cp'],\n",
       " ['age', 'trestbps'],\n",
       " ['age', 'chol'],\n",
       " ['age', 'fbs'],\n",
       " ['age', 'restecg'],\n",
       " ['age', 'thalach'],\n",
       " ['age', 'exang'],\n",
       " ['age', 'oldpeak'],\n",
       " ['age', 'slope'],\n",
       " ['age', 'ca'],\n",
       " ['age', 'thal'],\n",
       " ['sex', 'sex'],\n",
       " ['cp', 'sex'],\n",
       " ['sex', 'trestbps'],\n",
       " ['chol', 'sex'],\n",
       " ['fbs', 'sex'],\n",
       " ['restecg', 'sex'],\n",
       " ['sex', 'thalach'],\n",
       " ['exang', 'sex'],\n",
       " ['oldpeak', 'sex'],\n",
       " ['sex', 'slope'],\n",
       " ['ca', 'sex'],\n",
       " ['sex', 'thal'],\n",
       " ['cp', 'cp'],\n",
       " ['cp', 'trestbps'],\n",
       " ['chol', 'cp'],\n",
       " ['cp', 'fbs'],\n",
       " ['cp', 'restecg'],\n",
       " ['cp', 'thalach'],\n",
       " ['cp', 'exang'],\n",
       " ['cp', 'oldpeak'],\n",
       " ['cp', 'slope'],\n",
       " ['ca', 'cp'],\n",
       " ['cp', 'thal'],\n",
       " ['trestbps', 'trestbps'],\n",
       " ['chol', 'trestbps'],\n",
       " ['fbs', 'trestbps'],\n",
       " ['restecg', 'trestbps'],\n",
       " ['thalach', 'trestbps'],\n",
       " ['exang', 'trestbps'],\n",
       " ['oldpeak', 'trestbps'],\n",
       " ['slope', 'trestbps'],\n",
       " ['ca', 'trestbps'],\n",
       " ['thal', 'trestbps'],\n",
       " ['chol', 'chol'],\n",
       " ['chol', 'fbs'],\n",
       " ['chol', 'restecg'],\n",
       " ['chol', 'thalach'],\n",
       " ['chol', 'exang'],\n",
       " ['chol', 'oldpeak'],\n",
       " ['chol', 'slope'],\n",
       " ['ca', 'chol'],\n",
       " ['chol', 'thal'],\n",
       " ['fbs', 'fbs'],\n",
       " ['fbs', 'restecg'],\n",
       " ['fbs', 'thalach'],\n",
       " ['exang', 'fbs'],\n",
       " ['fbs', 'oldpeak'],\n",
       " ['fbs', 'slope'],\n",
       " ['ca', 'fbs'],\n",
       " ['fbs', 'thal'],\n",
       " ['restecg', 'restecg'],\n",
       " ['restecg', 'thalach'],\n",
       " ['exang', 'restecg'],\n",
       " ['oldpeak', 'restecg'],\n",
       " ['restecg', 'slope'],\n",
       " ['ca', 'restecg'],\n",
       " ['restecg', 'thal'],\n",
       " ['thalach', 'thalach'],\n",
       " ['exang', 'thalach'],\n",
       " ['oldpeak', 'thalach'],\n",
       " ['slope', 'thalach'],\n",
       " ['ca', 'thalach'],\n",
       " ['thal', 'thalach'],\n",
       " ['exang', 'exang'],\n",
       " ['exang', 'oldpeak'],\n",
       " ['exang', 'slope'],\n",
       " ['ca', 'exang'],\n",
       " ['exang', 'thal'],\n",
       " ['oldpeak', 'oldpeak'],\n",
       " ['oldpeak', 'slope'],\n",
       " ['ca', 'oldpeak'],\n",
       " ['oldpeak', 'thal'],\n",
       " ['slope', 'slope'],\n",
       " ['ca', 'slope'],\n",
       " ['slope', 'thal'],\n",
       " ['ca', 'ca'],\n",
       " ['ca', 'thal'],\n",
       " ['thal', 'thal']]"
      ]
     },
     "execution_count": 46,
     "metadata": {},
     "output_type": "execute_result"
    }
   ],
   "source": [
    "prototypes"
   ]
  },
  {
   "cell_type": "code",
   "execution_count": 47,
   "metadata": {},
   "outputs": [],
   "source": [
    "from importances import get_point_biserial_corrs"
   ]
  },
  {
   "cell_type": "code",
   "execution_count": 48,
   "metadata": {},
   "outputs": [],
   "source": [
    "orig_imp = get_point_biserial_corrs(data, target)"
   ]
  },
  {
   "cell_type": "code",
   "execution_count": 49,
   "metadata": {},
   "outputs": [],
   "source": [
    "crossed_data, cross_info = build_crossings(data, prototypes, crossing_product, orig_imp)"
   ]
  },
  {
   "cell_type": "code",
   "execution_count": 50,
   "metadata": {},
   "outputs": [],
   "source": [
    "crossed_imp = abs(crossed_data.corr()[target]).sort_values()"
   ]
  },
  {
   "cell_type": "code",
   "execution_count": 51,
   "metadata": {},
   "outputs": [
    {
     "data": {
      "text/html": [
       "<div>\n",
       "<style scoped>\n",
       "    .dataframe tbody tr th:only-of-type {\n",
       "        vertical-align: middle;\n",
       "    }\n",
       "\n",
       "    .dataframe tbody tr th {\n",
       "        vertical-align: top;\n",
       "    }\n",
       "\n",
       "    .dataframe thead th {\n",
       "        text-align: right;\n",
       "    }\n",
       "</style>\n",
       "<table border=\"1\" class=\"dataframe\">\n",
       "  <thead>\n",
       "    <tr style=\"text-align: right;\">\n",
       "      <th></th>\n",
       "      <th>target</th>\n",
       "    </tr>\n",
       "  </thead>\n",
       "  <tbody>\n",
       "    <tr>\n",
       "      <th>restecg_X_sex</th>\n",
       "      <td>0.019229</td>\n",
       "    </tr>\n",
       "    <tr>\n",
       "      <th>fbs_X_thalach</th>\n",
       "      <td>0.019388</td>\n",
       "    </tr>\n",
       "    <tr>\n",
       "      <th>fbs_X_sex</th>\n",
       "      <td>0.031167</td>\n",
       "    </tr>\n",
       "    <tr>\n",
       "      <th>fbs_X_slope</th>\n",
       "      <td>0.038021</td>\n",
       "    </tr>\n",
       "    <tr>\n",
       "      <th>fbs_X_restecg</th>\n",
       "      <td>0.038749</td>\n",
       "    </tr>\n",
       "    <tr>\n",
       "      <th>...</th>\n",
       "      <td>...</td>\n",
       "    </tr>\n",
       "    <tr>\n",
       "      <th>exang_X_trestbps</th>\n",
       "      <td>0.445097</td>\n",
       "    </tr>\n",
       "    <tr>\n",
       "      <th>cp_X_slope</th>\n",
       "      <td>0.449473</td>\n",
       "    </tr>\n",
       "    <tr>\n",
       "      <th>cp_X_thalach</th>\n",
       "      <td>0.454156</td>\n",
       "    </tr>\n",
       "    <tr>\n",
       "      <th>oldpeak_X_thal</th>\n",
       "      <td>0.457514</td>\n",
       "    </tr>\n",
       "    <tr>\n",
       "      <th>target</th>\n",
       "      <td>1.000000</td>\n",
       "    </tr>\n",
       "  </tbody>\n",
       "</table>\n",
       "<p>105 rows × 1 columns</p>\n",
       "</div>"
      ],
      "text/plain": [
       "                    target\n",
       "restecg_X_sex     0.019229\n",
       "fbs_X_thalach     0.019388\n",
       "fbs_X_sex         0.031167\n",
       "fbs_X_slope       0.038021\n",
       "fbs_X_restecg     0.038749\n",
       "...                    ...\n",
       "exang_X_trestbps  0.445097\n",
       "cp_X_slope        0.449473\n",
       "cp_X_thalach      0.454156\n",
       "oldpeak_X_thal    0.457514\n",
       "target            1.000000\n",
       "\n",
       "[105 rows x 1 columns]"
      ]
     },
     "execution_count": 51,
     "metadata": {},
     "output_type": "execute_result"
    }
   ],
   "source": [
    "pd.DataFrame(crossed_imp)"
   ]
  },
  {
   "cell_type": "code",
   "execution_count": 52,
   "metadata": {},
   "outputs": [],
   "source": [
    "crossed_full_info = pd.DataFrame(crossed_imp)\n",
    "crossed_full_info['importance'] = crossed_full_info['target']\n",
    "crossed_full_info = crossed_full_info.drop('target', axis=1)\n",
    "crossed_full_info['rank'] = pd.Series(cross_info)\n",
    "crossed_full_info = crossed_full_info.drop('target', axis=0)"
   ]
  },
  {
   "cell_type": "code",
   "execution_count": 53,
   "metadata": {},
   "outputs": [
    {
     "data": {
      "text/html": [
       "<div>\n",
       "<style scoped>\n",
       "    .dataframe tbody tr th:only-of-type {\n",
       "        vertical-align: middle;\n",
       "    }\n",
       "\n",
       "    .dataframe tbody tr th {\n",
       "        vertical-align: top;\n",
       "    }\n",
       "\n",
       "    .dataframe thead th {\n",
       "        text-align: right;\n",
       "    }\n",
       "</style>\n",
       "<table border=\"1\" class=\"dataframe\">\n",
       "  <thead>\n",
       "    <tr style=\"text-align: right;\">\n",
       "      <th></th>\n",
       "      <th>importance</th>\n",
       "      <th>rank</th>\n",
       "    </tr>\n",
       "  </thead>\n",
       "  <tbody>\n",
       "    <tr>\n",
       "      <th>restecg_X_sex</th>\n",
       "      <td>0.019229</td>\n",
       "      <td>0.279501</td>\n",
       "    </tr>\n",
       "    <tr>\n",
       "      <th>fbs_X_thalach</th>\n",
       "      <td>0.019388</td>\n",
       "      <td>0.422895</td>\n",
       "    </tr>\n",
       "    <tr>\n",
       "      <th>fbs_X_sex</th>\n",
       "      <td>0.031167</td>\n",
       "      <td>0.279501</td>\n",
       "    </tr>\n",
       "    <tr>\n",
       "      <th>fbs_X_slope</th>\n",
       "      <td>0.038021</td>\n",
       "      <td>0.345512</td>\n",
       "    </tr>\n",
       "    <tr>\n",
       "      <th>fbs_X_restecg</th>\n",
       "      <td>0.038749</td>\n",
       "      <td>0.134468</td>\n",
       "    </tr>\n",
       "    <tr>\n",
       "      <th>...</th>\n",
       "      <td>...</td>\n",
       "      <td>...</td>\n",
       "    </tr>\n",
       "    <tr>\n",
       "      <th>exang_X_thal</th>\n",
       "      <td>0.444305</td>\n",
       "      <td>0.438029</td>\n",
       "    </tr>\n",
       "    <tr>\n",
       "      <th>exang_X_trestbps</th>\n",
       "      <td>0.445097</td>\n",
       "      <td>0.438029</td>\n",
       "    </tr>\n",
       "    <tr>\n",
       "      <th>cp_X_slope</th>\n",
       "      <td>0.449473</td>\n",
       "      <td>0.434854</td>\n",
       "    </tr>\n",
       "    <tr>\n",
       "      <th>cp_X_thalach</th>\n",
       "      <td>0.454156</td>\n",
       "      <td>0.434854</td>\n",
       "    </tr>\n",
       "    <tr>\n",
       "      <th>oldpeak_X_thal</th>\n",
       "      <td>0.457514</td>\n",
       "      <td>0.438441</td>\n",
       "    </tr>\n",
       "  </tbody>\n",
       "</table>\n",
       "<p>104 rows × 2 columns</p>\n",
       "</div>"
      ],
      "text/plain": [
       "                  importance      rank\n",
       "restecg_X_sex       0.019229  0.279501\n",
       "fbs_X_thalach       0.019388  0.422895\n",
       "fbs_X_sex           0.031167  0.279501\n",
       "fbs_X_slope         0.038021  0.345512\n",
       "fbs_X_restecg       0.038749  0.134468\n",
       "...                      ...       ...\n",
       "exang_X_thal        0.444305  0.438029\n",
       "exang_X_trestbps    0.445097  0.438029\n",
       "cp_X_slope          0.449473  0.434854\n",
       "cp_X_thalach        0.454156  0.434854\n",
       "oldpeak_X_thal      0.457514  0.438441\n",
       "\n",
       "[104 rows x 2 columns]"
      ]
     },
     "execution_count": 53,
     "metadata": {},
     "output_type": "execute_result"
    }
   ],
   "source": [
    "crossed_full_info"
   ]
  },
  {
   "cell_type": "code",
   "execution_count": 54,
   "metadata": {},
   "outputs": [],
   "source": [
    "dataset_name = \"heart\""
   ]
  },
  {
   "cell_type": "code",
   "execution_count": 55,
   "metadata": {},
   "outputs": [],
   "source": [
    "crossed_full_info.to_csv(f'../data/output/crossed_imp_{dataset_name}_d{depth}.csv')"
   ]
  },
  {
   "cell_type": "code",
   "execution_count": 27,
   "metadata": {},
   "outputs": [],
   "source": [
    "pd.DataFrame(orig_imp, columns=['importance']).to_csv(f'../data/output/orig_imp_{dataset_name}.csv', index=True)"
   ]
  }
 ],
 "metadata": {
  "kernelspec": {
   "display_name": "venv",
   "language": "python",
   "name": "python3"
  },
  "language_info": {
   "codemirror_mode": {
    "name": "ipython",
    "version": 3
   },
   "file_extension": ".py",
   "mimetype": "text/x-python",
   "name": "python",
   "nbconvert_exporter": "python",
   "pygments_lexer": "ipython3",
   "version": "3.10.7"
  },
  "orig_nbformat": 4,
  "vscode": {
   "interpreter": {
    "hash": "cc747558e2f4a769efb938c3d7b234f1f5c4d48e04b67a6d28d42c6044c31a07"
   }
  }
 },
 "nbformat": 4,
 "nbformat_minor": 2
}
