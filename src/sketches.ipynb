{
 "cells": [
  {
   "cell_type": "code",
   "execution_count": 13,
   "metadata": {},
   "outputs": [],
   "source": [
    "import numpy as np\n",
    "import pandas as pd\n",
    "import seaborn as sns\n",
    "import matplotlib.pyplot as plt"
   ]
  },
  {
   "cell_type": "code",
   "execution_count": 14,
   "metadata": {},
   "outputs": [],
   "source": [
    "data = pd.read_csv('./../data/heart.csv')"
   ]
  },
  {
   "cell_type": "code",
   "execution_count": 15,
   "metadata": {},
   "outputs": [],
   "source": [
    "target = 'target'"
   ]
  },
  {
   "cell_type": "code",
   "execution_count": 16,
   "metadata": {},
   "outputs": [
    {
     "name": "stdout",
     "output_type": "stream",
     "text": [
      "<class 'pandas.core.frame.DataFrame'>\n",
      "RangeIndex: 1025 entries, 0 to 1024\n",
      "Data columns (total 14 columns):\n",
      " #   Column    Non-Null Count  Dtype  \n",
      "---  ------    --------------  -----  \n",
      " 0   age       1025 non-null   int64  \n",
      " 1   sex       1025 non-null   int64  \n",
      " 2   cp        1025 non-null   int64  \n",
      " 3   trestbps  1025 non-null   int64  \n",
      " 4   chol      1025 non-null   int64  \n",
      " 5   fbs       1025 non-null   int64  \n",
      " 6   restecg   1025 non-null   int64  \n",
      " 7   thalach   1025 non-null   int64  \n",
      " 8   exang     1025 non-null   int64  \n",
      " 9   oldpeak   1025 non-null   float64\n",
      " 10  slope     1025 non-null   int64  \n",
      " 11  ca        1025 non-null   int64  \n",
      " 12  thal      1025 non-null   int64  \n",
      " 13  target    1025 non-null   int64  \n",
      "dtypes: float64(1), int64(13)\n",
      "memory usage: 112.2 KB\n"
     ]
    }
   ],
   "source": [
    "data.info()"
   ]
  },
  {
   "cell_type": "code",
   "execution_count": 17,
   "metadata": {},
   "outputs": [],
   "source": [
    "feat_cols = list(set(data.columns) - set([target]))"
   ]
  },
  {
   "cell_type": "code",
   "execution_count": 18,
   "metadata": {},
   "outputs": [],
   "source": [
    "from CrossingBuilder import build_crossings, build_crossings_prototypes\n",
    "from crossing_functions import crossing_product"
   ]
  },
  {
   "cell_type": "code",
   "execution_count": 19,
   "metadata": {},
   "outputs": [],
   "source": [
    "prototypes = build_crossings_prototypes(data.drop([target], axis=1), 1)"
   ]
  },
  {
   "cell_type": "code",
   "execution_count": 20,
   "metadata": {},
   "outputs": [
    {
     "data": {
      "text/plain": [
       "[['age', 'age'],\n",
       " ['age', 'sex'],\n",
       " ['age', 'cp'],\n",
       " ['age', 'trestbps'],\n",
       " ['age', 'chol'],\n",
       " ['age', 'fbs'],\n",
       " ['age', 'restecg'],\n",
       " ['age', 'thalach'],\n",
       " ['age', 'exang'],\n",
       " ['age', 'oldpeak'],\n",
       " ['age', 'slope'],\n",
       " ['age', 'ca'],\n",
       " ['age', 'thal'],\n",
       " ['sex', 'sex'],\n",
       " ['cp', 'sex'],\n",
       " ['sex', 'trestbps'],\n",
       " ['chol', 'sex'],\n",
       " ['fbs', 'sex'],\n",
       " ['restecg', 'sex'],\n",
       " ['sex', 'thalach'],\n",
       " ['exang', 'sex'],\n",
       " ['oldpeak', 'sex'],\n",
       " ['sex', 'slope'],\n",
       " ['ca', 'sex'],\n",
       " ['sex', 'thal'],\n",
       " ['cp', 'cp'],\n",
       " ['cp', 'trestbps'],\n",
       " ['chol', 'cp'],\n",
       " ['cp', 'fbs'],\n",
       " ['cp', 'restecg'],\n",
       " ['cp', 'thalach'],\n",
       " ['cp', 'exang'],\n",
       " ['cp', 'oldpeak'],\n",
       " ['cp', 'slope'],\n",
       " ['ca', 'cp'],\n",
       " ['cp', 'thal'],\n",
       " ['trestbps', 'trestbps'],\n",
       " ['chol', 'trestbps'],\n",
       " ['fbs', 'trestbps'],\n",
       " ['restecg', 'trestbps'],\n",
       " ['thalach', 'trestbps'],\n",
       " ['exang', 'trestbps'],\n",
       " ['oldpeak', 'trestbps'],\n",
       " ['slope', 'trestbps'],\n",
       " ['ca', 'trestbps'],\n",
       " ['thal', 'trestbps'],\n",
       " ['chol', 'chol'],\n",
       " ['chol', 'fbs'],\n",
       " ['chol', 'restecg'],\n",
       " ['chol', 'thalach'],\n",
       " ['chol', 'exang'],\n",
       " ['chol', 'oldpeak'],\n",
       " ['chol', 'slope'],\n",
       " ['ca', 'chol'],\n",
       " ['chol', 'thal'],\n",
       " ['fbs', 'fbs'],\n",
       " ['fbs', 'restecg'],\n",
       " ['fbs', 'thalach'],\n",
       " ['exang', 'fbs'],\n",
       " ['fbs', 'oldpeak'],\n",
       " ['fbs', 'slope'],\n",
       " ['ca', 'fbs'],\n",
       " ['fbs', 'thal'],\n",
       " ['restecg', 'restecg'],\n",
       " ['restecg', 'thalach'],\n",
       " ['exang', 'restecg'],\n",
       " ['oldpeak', 'restecg'],\n",
       " ['restecg', 'slope'],\n",
       " ['ca', 'restecg'],\n",
       " ['restecg', 'thal'],\n",
       " ['thalach', 'thalach'],\n",
       " ['exang', 'thalach'],\n",
       " ['oldpeak', 'thalach'],\n",
       " ['slope', 'thalach'],\n",
       " ['ca', 'thalach'],\n",
       " ['thal', 'thalach'],\n",
       " ['exang', 'exang'],\n",
       " ['exang', 'oldpeak'],\n",
       " ['exang', 'slope'],\n",
       " ['ca', 'exang'],\n",
       " ['exang', 'thal'],\n",
       " ['oldpeak', 'oldpeak'],\n",
       " ['oldpeak', 'slope'],\n",
       " ['ca', 'oldpeak'],\n",
       " ['oldpeak', 'thal'],\n",
       " ['slope', 'slope'],\n",
       " ['ca', 'slope'],\n",
       " ['slope', 'thal'],\n",
       " ['ca', 'ca'],\n",
       " ['ca', 'thal'],\n",
       " ['thal', 'thal']]"
      ]
     },
     "execution_count": 20,
     "metadata": {},
     "output_type": "execute_result"
    }
   ],
   "source": [
    "prototypes"
   ]
  },
  {
   "cell_type": "code",
   "execution_count": 21,
   "metadata": {},
   "outputs": [],
   "source": [
    "crossed_data = build_crossings(data, prototypes, crossing_product)"
   ]
  },
  {
   "cell_type": "code",
   "execution_count": 22,
   "metadata": {},
   "outputs": [],
   "source": [
    "org_imp = abs(data.corr()[target]).sort_values()"
   ]
  },
  {
   "cell_type": "code",
   "execution_count": 23,
   "metadata": {},
   "outputs": [],
   "source": [
    "crossed_imp = abs(crossed_data.corr()[target]).sort_values()"
   ]
  },
  {
   "cell_type": "code",
   "execution_count": 24,
   "metadata": {},
   "outputs": [],
   "source": [
    "dataset_name = \"heart\""
   ]
  },
  {
   "cell_type": "code",
   "execution_count": 27,
   "metadata": {},
   "outputs": [],
   "source": [
    "pd.DataFrame(org_imp).to_csv(f'../data/output/orig_imp_{dataset_name}.csv')\n",
    "pd.DataFrame(crossed_data).to_csv(f'../data/output/crossed_imp_{dataset_name}.csv')"
   ]
  }
 ],
 "metadata": {
  "kernelspec": {
   "display_name": "venv",
   "language": "python",
   "name": "python3"
  },
  "language_info": {
   "codemirror_mode": {
    "name": "ipython",
    "version": 3
   },
   "file_extension": ".py",
   "mimetype": "text/x-python",
   "name": "python",
   "nbconvert_exporter": "python",
   "pygments_lexer": "ipython3",
   "version": "3.10.7"
  },
  "orig_nbformat": 4,
  "vscode": {
   "interpreter": {
    "hash": "cc747558e2f4a769efb938c3d7b234f1f5c4d48e04b67a6d28d42c6044c31a07"
   }
  }
 },
 "nbformat": 4,
 "nbformat_minor": 2
}
